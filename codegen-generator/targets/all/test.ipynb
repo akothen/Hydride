{
    "cells": [
        {
            "cell_type": "code",
            "execution_count": 1,
            "metadata": {},
            "outputs": [
                {
                    "name": "stdout",
                    "output_type": "stream",
                    "text": [
                        "loading...\n",
                        "parsing...\n",
                        "parse done...\n"
                    ]
                }
            ],
            "source": [
                "from ARMTypes import *\n",
                "from ARMAST import *\n",
                "from asl.ARMParser import get_parser\n",
                "from asl.ARMAST import Instruction\n",
                "import json\n",
                "print(\"loading...\")\n",
                "with open(\"intr.json\", 'r') as fi:\n",
                "    I = json.load(fi)\n",
                "with open(\"asl/arm_instrs.sexpr\") as f:\n",
                "    data = f.read()\n",
                "parser = get_parser()\n",
                "print(\"parsing...\")\n",
                "Instrs: List[Instruction] = parser.parse(data)\n",
                "print(\"parse done...\")\n",
                "from importlib import reload\n"
            ]
        },
        {
            "cell_type": "code",
            "execution_count": 2,
            "metadata": {},
            "outputs": [
                {
                    "data": {
                        "text/plain": [
                            "<module 'ARMIntrinsics' from '/home/scarlet/Hydride/codegen-generator/targets/arm/ARMIntrinsics.py'>"
                        ]
                    },
                    "execution_count": 2,
                    "metadata": {},
                    "output_type": "execute_result"
                }
            ],
            "source": [
                "import ARMEncodingFields\n",
                "reload(ARMEncodingFields)"
            ]
        },
        {
            "cell_type": "code",
            "execution_count": 25,
            "metadata": {},
            "outputs": [
                {
                    "name": "stdout",
                    "output_type": "stream",
                    "text": [
                        "Summary:\n",
                        "We do 1925 and discarded 2419 instrisics\n",
                        "Skipped encodings: ['SSHR_asimdshf_R', 'SSHR_asisdshf_R', 'USHR_asimdshf_R', 'USHR_asisdshf_R', 'SHL_asimdshf_R', 'SHL_asisdshf_R', 'SRSHR_asimdshf_R', 'SRSHR_asisdshf_R', 'URSHR_asimdshf_R', 'URSHR_asisdshf_R', 'SSRA_asimdshf_R', 'SSRA_asisdshf_R', 'USRA_asimdshf_R', 'USRA_asisdshf_R', 'SRSRA_asimdshf_R', 'SRSRA_asisdshf_R', 'URSRA_asimdshf_R', 'URSRA_asisdshf_R', 'SQSHLU_asimdshf_R', 'SQSHLU_asisdshf_R', 'SHRN_asimdshf_N', 'SQSHRUN_asimdshf_N', 'SQSHRUN_asisdshf_N', 'SQRSHRUN_asimdshf_N', 'SQRSHRUN_asisdshf_N', 'SQSHRN_asimdshf_N', 'SQSHRN_asisdshf_N', 'UQSHRN_asimdshf_N', 'UQSHRN_asisdshf_N', 'RSHRN_asimdshf_N', 'SQRSHRN_asimdshf_N', 'SQRSHRN_asisdshf_N', 'UQRSHRN_asimdshf_N', 'UQRSHRN_asisdshf_N', 'SSHLL_asimdshf_L', 'USHLL_asimdshf_L', 'SRI_asimdshf_R', 'SRI_asisdshf_R', 'SLI_asimdshf_R', 'SLI_asisdshf_R', 'INS_asimdins_IR_r', 'DUP_asimdins_DR_r', 'DUP_asimdins_DV_v', 'EXT_asimdext_only', 'UMOV_asimdins_X_x', 'SMOV_asimdins_X_x', 'XAR_VVV2_crypto3_imm6']\n",
                        "Solved 1188 out of 4344 instrisics\n",
                        "map2AST done...\n",
                        "1188 1188\n"
                    ]
                }
            ],
            "source": [
                "import ARMSemanticGen\n",
                "import ARMAST\n",
                "import ARMIntrinsicClassify\n",
                "reload(ARMAST)\n",
                "reload(ARMSemanticGen)\n",
                "reload(ARMIntrinsicClassify)\n",
                "zzzz = set(ARMIntrinsicClassify.Intrinsics2Encodings.values())\n",
                "map2AST = {}\n",
                "for i in Instrs:\n",
                "    for j in i.instEncodings:\n",
                "        if j.encName in zzzz:\n",
                "            wholeCode = j.encDecode\n",
                "            if type(j.encDecode) != asl.Nothing:\n",
                "                wholeCode += i.instPostDecode\n",
                "            map2AST[j.encName] = (\n",
                "                i.instExecute, wholeCode)\n",
                "assert len(map2AST) == len(zzzz)\n",
                "print(\"map2AST done...\")\n",
                "\n",
                "\n",
                "def getSemaByInstrDesc(intrin):\n",
                "    if intrin.name not in ARMIntrinsicClassify.Intrinsics2Fields:\n",
                "        return None\n",
                "    # print(intrin)\n",
                "    # assert False\n",
                "    inst = intrin.base_instruction[0]\n",
                "    field = ARMIntrinsicClassify.Intrinsics2Fields[intrin.name]\n",
                "    enc = ARMIntrinsicClassify.Intrinsics2Encodings[intrin.name]\n",
                "    ASTs = map2AST[enc]\n",
                "    D = ARMSemanticGen.DecodeContext(field)\n",
                "\n",
                "    resolving = D.walk(ARMAST.ASTShrink_(ASTs[1]))\n",
                "    if D.undefined or D.symbolnotfound:\n",
                "        print(D.undefined, D.symbolnotfound)\n",
                "        print(intrin.name)\n",
                "        print(enc, field)\n",
                "        assert False\n",
                "\n",
                "    Params, signedness, preparation = ARMSemanticGen.parse_instr_attr(\n",
                "        intrin)\n",
                "    for k in preparation:\n",
                "        del resolving[k]\n",
                "    return ARMSema(intrin.name,\n",
                "                   inst,\n",
                "                   Params,\n",
                "                   ARMAST.ASTShrink_(ASTs[0]),\n",
                "                   intrin.return_type[\"value\"],\n",
                "                   signedness,\n",
                "                   f\"{inst} {intrin.operands}\",\n",
                "                   None, None, None, None,\n",
                "                   preparation,\n",
                "                   resolving,\n",
                "                   )\n",
                "\n",
                "\n",
                "def getSemaByName(name):\n",
                "    for i in I:\n",
                "        if i[\"name\"] == name:\n",
                "            return getSemaByInstrDesc(InstrDesc(**i))\n",
                "    return None\n",
                "\n",
                "\n",
                "def genAllSema():\n",
                "    for i in I:\n",
                "        yield getSemaByInstrDesc(InstrDesc(**i))\n",
                "\n",
                "\n",
                "# getSemaByName(\"vadd_s8\")\n",
                "allsema = [i for i in genAllSema() if i is not None]\n",
                "print(len(ARMIntrinsicClassify.Intrinsics2Fields), len(allsema))\n"
            ]
        },
        {
            "cell_type": "code",
            "execution_count": 26,
            "metadata": {},
            "outputs": [
                {
                    "name": "stdout",
                    "output_type": "stream",
                    "text": [
                        "{'name': 'vld4_s64', 'return_type': {'return_base_type': 'int', 'element_bit_size': '64', 'value': 'int64x1x4_t'}, 'arguments': ['int64_t const * ptr'], 'results': [{'Vt4.1D': 'result.val[3]'}, {'Vt3.1D': 'result.val[2]'}, {'Vt2.1D': 'result.val[1]'}, {'Vt.1D': 'result.val[0]'}], 'Arguments_Preparation': {'ptr': {'register': 'Xn'}}, 'Operation': 'NeonOperationId_00076', 'instruction_group': 'Load|Stride', 'base_instruction': ['LD1'], 'operands': '{Vt.1D - Vt4.1D},[Xn]'}\n",
                        "('LD1_asisdlse_R1_1v', 'aarch64_memory_vector_multiple_no_wb')\n"
                    ]
                }
            ],
            "source": []
        },
        {
            "cell_type": "code",
            "execution_count": null,
            "metadata": {},
            "outputs": [],
            "source": []
        }
    ],
    "metadata": {
        "kernelspec": {
            "display_name": "Python 3",
            "language": "python",
            "name": "python3"
        },
        "language_info": {
            "codemirror_mode": {
                "name": "ipython",
                "version": 3
            },
            "file_extension": ".py",
            "mimetype": "text/x-python",
            "name": "python",
            "nbconvert_exporter": "python",
            "pygments_lexer": "ipython3",
            "version": "3.8.10"
        },
        "orig_nbformat": 4
    },
    "nbformat": 4,
    "nbformat_minor": 2
}